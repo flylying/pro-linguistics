{
 "cells": [
  {
   "cell_type": "code",
   "execution_count": 1,
   "id": "49241ead",
   "metadata": {},
   "outputs": [],
   "source": [
    "from linguistics.similarity import Sentence"
   ]
  },
  {
   "cell_type": "code",
   "execution_count": 2,
   "id": "ea61aba7",
   "metadata": {},
   "outputs": [],
   "source": [
    "from linguistics.document import Document"
   ]
  },
  {
   "cell_type": "code",
   "execution_count": 7,
   "id": "205d3f39",
   "metadata": {},
   "outputs": [],
   "source": [
    "doc = Document(text='I like the idea of living in Japan for a month.')"
   ]
  },
  {
   "cell_type": "code",
   "execution_count": 8,
   "id": "a4a7f413",
   "metadata": {},
   "outputs": [
    {
     "data": {
      "text/plain": [
       "[Japan (geopolitical_entity), a month (date)]"
      ]
     },
     "execution_count": 8,
     "metadata": {},
     "output_type": "execute_result"
    }
   ],
   "source": [
    "doc.entities"
   ]
  },
  {
   "cell_type": "code",
   "execution_count": 
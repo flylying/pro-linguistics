{
 "cells": [
  {
   "cell_type": "code",
   "execution_count": 1,
   "id": "49241ead",
   "metadata": {},
   "outputs": [],
   "source": [
    "from linguistics.similarity import Sentence"
   ]
  },
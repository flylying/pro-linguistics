
{
 "cells": [
  {
   "cell_type": "code",
   "execution_count": 1,
   "id": "49c14b0f",
   "metadata": {},
   "outputs": [],
   "source": [
    "from linguistics.similarity import Sentence"
   ]
  },
  {
   "cell_type": "code",
   "execution_count": 2,
   "id": "e2675548",
   "metadata": {},
   "outputs": [],
   "source": [
    "s1 = Sentence('John Joseph Nicholson')\n",
    "s2 = Sentence('Nicholson, Jack')"
   ]
  },
  {
   "cell_type": "code",
   "execution_count": 3,
   "id": "a4f708a7",
   "metadata": {},
   "outputs": [
    {
     "data": {
      "text/plain": [
       "[John, Joseph, Nicholson]"
      ]
     },
     "execution_count": 3,
     "metadata": {},
     "output_type": "execute_result"
    }
   ],
   "source": [
    "s1.words"
   ]
  },
  {
   "cell_type": "code",
   "execution_count": 4,
   "id": "173e1048",
   "metadata": {},
   "outputs": [
    {
     "data": {
      "text/plain": [
       "[Nicholson, Jack]"
      ]
     },
     "execution_count": 4,
     "metadata": {},
     "output_type": "execute_result"
    }
   ],
   "source": [
    "s2.words"
   ]
  },
  {
   "cell_type": "code",
   "execution_count": 5,
   "id": "b569424c",
   "metadata": {},
   "outputs": [
    {
     "data": {
      "text/plain": [
       "0.29320987654320996"
      ]
     },
     "execution_count": 5,
     "metadata": {},
     "output_type": "execute_result"
    }
   ],
   "source": [
    "s1.get_similarity(s2)"
   ]
  },
  {
   "cell_type": "code",
   "execution_count": 6,
   "id": "08b00791",
   "metadata": {},
   "outputs": [
    {
     "data": {
      "text/plain": [
       "0.35185185185185186"
      ]
     },
     "execution_count": 6,
     "metadata": {},
     "output_type": "execute_result"
    }
   ],
   "source": [
    "s1.words[1].get_similarity(s2.words[0], case_sensitivity=1)"
   ]
  },
  {
   "cell_type": "code",
   "execution_count": 7,
   "id": "c8a964d7",
   "metadata": {},
   "outputs": [
    {
     "data": {
      "text/plain": [
       "0.35185185185185186"
      ]
     },
     "execution_count": 7,
     "metadata": {},
     "output_type": "execute_result"
    }
   ],
   "source": [
    "s1.words[1].get_similarity(s2.words[0], case_sensitivity=0)"
   ]
  },
  {
   "cell_type": "code",
   "execution_count": 8,
   "id": "a796d455",
   "metadata": {},
   "outputs": [],
   "source": [
    "def get_similarity_matrix(s1, s2, case_sensitivity=1, first_char_weight=0):\n",
    "    s1 = Sentence(s1)\n",
    "    s2 = Sentence(s2)\n",
    "    \n",
    "    max_length = max(s1.length, s2.length)\n",
    "    \n",
    "    def get_similarity_by_index(i1, i2):\n",
    "        try:\n",
    "            return s1.words[i1].get_similarity(\n",
    "                s2.words[i2], case_sensitivity=case_sensitivity, first_char_weight=first_char_weight\n",
    "            )\n",
    "        except:\n",
    "            return 0\n",
    "    \n",
    "    return [\n",
    "        [(i1, i2, get_similarity_by_index(i1, i2)) \n",
    "        for i2 in range(max_length)]\n",
    "        for i1 in range(max_length)\n",
    "    ]"
   ]
  },
  {
   "cell_type": "code",
   "execution_count": 9,
   "id": "7ff78f41",
   "metadata": {},
   "outputs": [],
   "source": [
    "def get_similarity_order(s1, s2, case_sensitivity=1, first_char_weight=0):\n",
    "    similarity_matrix = get_similarity_matrix(\n",
    "        s1, s2, case_sensitivity=case_sensitivity, first_char_weight=first_char_weight\n",
    "    )\n",
    "    \n",
    "    flat_list = [e for l in similarity_matrix for e in l]\n",
    "    sorted_similarities = sorted(flat_list, key=lambda x: -x[2])\n",
    "    \n",
    "    result = []\n",
    "    for i1, i2, similarity in sorted_similarities:\n",
    "        if similarity_matrix[i1][i2] is not None:\n",
    "            if i1 < s1.length and i2 < s2.length:\n",
    "                word_1, word_2 = s1.words[i1], s2.words[i2]\n",
    "                index_1, index_2 = i1, i2\n",
    "            elif i1 < s1.length:\n",
    "                word_1, word_2 = s1.words[i1], None\n",
    "                index_1, index_2 = i1, None\n",
    "            else:\n",
    "                word_1, word_2 = None, s2.words[i2]\n",
    "                index_1, index_2 = None, i2\n",
    "                \n",
    "            result.append({\n",
    "                'word_1': word_1, 'word_2': word_2, 'similarity': similarity,\n",
    "                'index_1': index_1, 'index_2': index_2\n",
    "            })\n",
    "            \n",
    "            # remove all elements at column i2 (iterate over rows)\n",
    "            for j1 in range(len(similarity_matrix)):\n",
    "                similarity_matrix[j1][i2] = None\n",
    "                \n",
    "            # remove all elements at row i1 (iterate over columns)\n",
    "            for j2 in range(len(similarity_matrix[i1])):\n",
    "                similarity_matrix[i1][j2] = None        \n",
    "        \n",
    "    return result"
   ]
  },
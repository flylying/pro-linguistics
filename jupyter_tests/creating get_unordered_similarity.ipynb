
{
 "cells": [
  {
   "cell_type": "code",
   "execution_count": 1,
   "id": "49c14b0f",
   "metadata": {},
   "outputs": [],
   "source": [
    "from linguistics.similarity import Sentence"
   ]
  },
  {
   "cell_type": "code",
   "execution_count": 2,
   "id": "e2675548",
   "metadata": {},
   "outputs": [],
   "source": [
    "s1 = Sentence('John Joseph Nicholson')\n",
    "s2 = Sentence('Nicholson, Jack')"
   ]
  },
  {
   "cell_type": "code",
   "execution_count": 3,
   "id": "a4f708a7",
   "metadata": {},
   "outputs": [
    {
     "data": {
      "text/plain": [
       "[John, Joseph, Nicholson]"
      ]
     },
     "execution_count": 3,
     "metadata": {},
     "output_type": "execute_result"
    }
   ],
   "source": [
    "s1.words"
   ]
  },
  {
   "cell_type": "code",
   "execution_count": 4,
   "id": "173e1048",
   "metadata": {},
   "outputs": [
    {
     "data": {
      "text/plain": [
       "[Nicholson, Jack]"
      ]
     },
     "execution_count": 4,
     "metadata": {},
     "output_type": "execute_result"
    }
   ],
   "source": [
    "s2.words"
   ]
  },
  {
   "cell_type": "code",
   "execution_count": 5,
   "id": "b569424c",
   "metadata": {},
   "outputs": [
    {
     "data": {
      "text/plain": [
       "0.29320987654320996"
      ]
     },
     "execution_count": 5,
     "metadata": {},